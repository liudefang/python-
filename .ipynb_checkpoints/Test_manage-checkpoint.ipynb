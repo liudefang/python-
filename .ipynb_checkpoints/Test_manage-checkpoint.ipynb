{
 "cells": [
  {
   "cell_type": "code",
   "execution_count": 1,
   "metadata": {},
   "outputs": [
    {
     "name": "stdout",
     "output_type": "stream",
     "text": [
      "总行数为：6601行\n"
     ]
    },
    {
     "data": {
      "text/html": [
       "<div>\n",
       "<style scoped>\n",
       "    .dataframe tbody tr th:only-of-type {\n",
       "        vertical-align: middle;\n",
       "    }\n",
       "\n",
       "    .dataframe tbody tr th {\n",
       "        vertical-align: top;\n",
       "    }\n",
       "\n",
       "    .dataframe thead th {\n",
       "        text-align: right;\n",
       "    }\n",
       "</style>\n",
       "<table border=\"1\" class=\"dataframe\">\n",
       "  <thead>\n",
       "    <tr style=\"text-align: right;\">\n",
       "      <th></th>\n",
       "      <th>zwmc</th>\n",
       "      <th>gsmc</th>\n",
       "      <th>zwyx</th>\n",
       "      <th>gbsj</th>\n",
       "      <th>gzdd</th>\n",
       "      <th>fkl</th>\n",
       "      <th>brief</th>\n",
       "      <th>zw_link</th>\n",
       "      <th>_id</th>\n",
       "      <th>save_date</th>\n",
       "    </tr>\n",
       "  </thead>\n",
       "  <tbody>\n",
       "    <tr>\n",
       "      <th>0</th>\n",
       "      <td>高级测试经理</td>\n",
       "      <td>上海数享信息技术有限公司</td>\n",
       "      <td>20000-30000</td>\n",
       "      <td>最新</td>\n",
       "      <td>上海</td>\n",
       "      <td>100%</td>\n",
       "      <td>岗位职责：  1，制定测试规范，搭建测试质量管理体系，组织完成测试计划，分配测试任务；  ...</td>\n",
       "      <td>http://jobs.zhaopin.com/388780686250204.htm</td>\n",
       "      <td>582946f967e0dfe2801a1685</td>\n",
       "      <td>2018-01-06</td>\n",
       "    </tr>\n",
       "    <tr>\n",
       "      <th>1</th>\n",
       "      <td>测试经理</td>\n",
       "      <td>北京简单科技有限公司</td>\n",
       "      <td>20001-30000</td>\n",
       "      <td>最新</td>\n",
       "      <td>北京</td>\n",
       "      <td></td>\n",
       "      <td>1、管理测试团队；  2、负责系统的基本功能自动化测试工作，编写自动化测试脚本；  3、提...</td>\n",
       "      <td>http://jobs.zhaopin.com/147164943250898.htm</td>\n",
       "      <td>582946f967e0dfe2801a1687</td>\n",
       "      <td>2018-01-06</td>\n",
       "    </tr>\n",
       "  </tbody>\n",
       "</table>\n",
       "</div>"
      ],
      "text/plain": [
       "     zwmc          gsmc         zwyx gbsj gzdd   fkl  \\\n",
       "0  高级测试经理  上海数享信息技术有限公司  20000-30000   最新   上海  100%   \n",
       "1    测试经理    北京简单科技有限公司  20001-30000   最新   北京         \n",
       "\n",
       "                                               brief  \\\n",
       "0   岗位职责：  1，制定测试规范，搭建测试质量管理体系，组织完成测试计划，分配测试任务；  ...   \n",
       "1   1、管理测试团队；  2、负责系统的基本功能自动化测试工作，编写自动化测试脚本；  3、提...   \n",
       "\n",
       "                                       zw_link                       _id  \\\n",
       "0  http://jobs.zhaopin.com/388780686250204.htm  582946f967e0dfe2801a1685   \n",
       "1  http://jobs.zhaopin.com/147164943250898.htm  582946f967e0dfe2801a1687   \n",
       "\n",
       "    save_date  \n",
       "0  2018-01-06  \n",
       "1  2018-01-06  "
      ]
     },
     "execution_count": 1,
     "metadata": {},
     "output_type": "execute_result"
    }
   ],
   "source": [
    "import inline\n",
    "import matplotlib\n",
    "import matplotlib.pyplot as plt\n",
    "import pymongo\n",
    "import pandas as pd\n",
    "\n",
    "% matplotlib inline\n",
    "plt.style.use('ggplot')\n",
    "\n",
    "# 解决matplotlib显示中文问题\n",
    "plt.rcParams['font.sans-serif'] = ['SimHei'] # 指定默认字体\n",
    "plt.rcParams['axes.unicode_minus'] = False  # 解决保存图像是负号'-'显示为方块的问题\n",
    "\n",
    "client = pymongo.MongoClient('192.168.159.128')\n",
    "\n",
    "db = client['zhilian']\n",
    "table = db['测试经理']\n",
    "\n",
    "columns =  ['zwmc',\n",
    "           'gsmc',\n",
    "           'zwyx',\n",
    "           'gbsj',\n",
    "           'gzdd',\n",
    "           'fkl',\n",
    "           'brief',\n",
    "           'zw_link',\n",
    "           '_id',\n",
    "           'save_date']\n",
    "\n",
    "df = pd.DataFrame([records for records in table.find()], columns=columns)\n",
    "\n",
    "print('总行数为：{}行'.format(df.shape[0]))\n",
    "df.head(2)"
   ]
  },
  {
   "cell_type": "code",
   "execution_count": null,
   "metadata": {},
   "outputs": [],
   "source": []
  }
 ],
 "metadata": {
  "kernelspec": {
   "display_name": "Python 3",
   "language": "python",
   "name": "python3"
  },
  "language_info": {
   "codemirror_mode": {
    "name": "ipython",
    "version": 3
   },
   "file_extension": ".py",
   "mimetype": "text/x-python",
   "name": "python",
   "nbconvert_exporter": "python",
   "pygments_lexer": "ipython3",
   "version": "3.6.2"
  }
 },
 "nbformat": 4,
 "nbformat_minor": 1
}
